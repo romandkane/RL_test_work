{
 "cells": [
  {
   "cell_type": "markdown",
   "metadata": {},
   "source": [
    "# Имитационное обучение\n",
    "\n",
    "***\n",
    "Задача будет заключаться в том, чтобы провести эксперименты с имитационным обучением: посмотреть, что такое клонирование поведения и разобраться с алгоритмом DAgger.\n",
    "Вместо человека-эксперта демонстрации будут даваться специальной предобученной \"экспертной\" стартегией. Ваша задача будет заключаться в реализации алгоритма клонирования и алгоритма DAgger, сравнения их произвоодительости на нескольких простых задачах управления из пакета OpenAI Gym. \n",
    "\n"
   ]
  },
  {
   "cell_type": "markdown",
   "metadata": {},
   "source": [
    "## Необходимые библиотеки:\n",
    "### 1. __TensorFlow:__\n",
    "Инструкции-напоминания по установке здесь - https://www.tensorflow.org/get_started/os_setup. Использование GPU необязательно.\n",
    "### 2. __OpenAI Gym:__  \n",
    "Напоминание-инструкции по OpenAI Gym - https://gym.openai.com/docs. Используйте версию 0.10.5.\n",
    "### 3. __MuJoCo:__\n",
    "Будет использоваться набор симуляционных сред MuJoCo,  версии 1.50 с http://mujoco.org/,  и версию  1.50.1.56  с https://github.com/openai/mujoco-py/. Для активации доступа -  https://www.roboti.us/license.html.\n",
    "***"
   ]
  },
  {
   "cell_type": "markdown",
   "metadata": {},
   "source": [
    "Импортируем все необходимое:"
   ]
  },
  {
   "cell_type": "code",
   "execution_count": 1,
   "metadata": {},
   "outputs": [
    {
     "name": "stdout",
     "output_type": "stream",
     "text": [
      "TensorFlow version : 1.13.1\n",
      "Gym version : 0.12.1\n"
     ]
    }
   ],
   "source": [
    "import os\n",
    "import pickle\n",
    "import tensorflow as tf\n",
    "\n",
    "print(\"TensorFlow version :\", tf.__version__)\n",
    "\n",
    "import numpy as np\n",
    "import tf_util\n",
    "import gym\n",
    "\n",
    "print(\"Gym version :\", gym.__version__)\n",
    "\n",
    "import glfw\n",
    "import load_policy\n",
    "\n",
    "import matplotlib.pyplot as plt\n",
    "from tqdm import tqdm_notebook\n",
    "from IPython import display"
   ]
  },
  {
   "cell_type": "markdown",
   "metadata": {},
   "source": [
    "## Собираем статистику\n",
    " Генерируем статистику (roll-outs) по заданной экспертной стратегии в 3 шага:\n",
    " 1. Загружаем стратегию из файла и инициализируем окружение\n",
    " 2. Начинаем сессию в tensorflow\n",
    " 3. В рамках сессии собираем данные: до конца эпизода в цикле выбираем экспертное действие, применяем его и сохраняем результаты"
   ]
  },
  {
   "cell_type": "code",
   "execution_count": 2,
   "metadata": {
    "scrolled": true
   },
   "outputs": [
    {
     "name": "stdout",
     "output_type": "stream",
     "text": [
      "loading and building expert policy\n",
      "obs (1, 17) (1, 17)\n",
      "loaded and built\n"
     ]
    }
   ],
   "source": [
    "# выбираем одно из окружений:\n",
    "\n",
    "#env_name=\"Humanoid-v2\"\n",
    "#env_name=\"Ant-v2\"\n",
    "env_name =\"HalfCheetah-v2\"\n",
    "#env_name=\"Hopper-v2\"\n",
    "#env_name=\"Reacher-v2\"\n",
    "#env_name=\"Walker2d-v2\"\n",
    "\n",
    "# выбираем файл с экспертной стратегией для конкретной среды /expert file\n",
    "expert_policy_file = \"experts/\" + env_name + \".pkl\"\n",
    "\n",
    "# загружеаем стратегию\n",
    "print('loading and building expert policy')\n",
    "policy_fn = load_policy.load_policy(expert_policy_file)\n",
    "print('loaded and built')\n",
    "\n",
    "# создаем gym окружение\n",
    "env = gym.make(env_name)\n",
    "\n",
    "# функция генерации rollouts, использующая экспертные стратегии\n",
    "def generate_rollouts(num_rollouts, max_steps, render=False):\n",
    "    # инициализируем сессию tf\n",
    "    with tf.Session():\n",
    "        tf_util.initialize()\n",
    "\n",
    "        returns = []\n",
    "        observations = []\n",
    "        actions = []\n",
    "\n",
    "        for i in range(num_rollouts):\n",
    "            obs = env.reset()\n",
    "            done = False\n",
    "            totalr = 0.\n",
    "            steps = 0\n",
    "\n",
    "            while not done:\n",
    "                # выбираем действие, в зависимости от наблюдения (observation)\n",
    "                action = policy_fn(obs[None, :])\n",
    "                # сохраняем сэмпл\n",
    "                observations.append(obs)\n",
    "                actions.append(action)\n",
    "                # применяем действие в среде\n",
    "                obs, r, done, _ = env.step(action)\n",
    "                # считаем общее вознаграждение\n",
    "                totalr += r\n",
    "                steps += 1\n",
    "                # визиализируем окружение\n",
    "                if render == True:\n",
    "                    env.render()\n",
    "                if steps >= max_steps:\n",
    "                    break\n",
    "            # добавляем итоговое вознаграждение\n",
    "            returns.append(totalr)\n",
    "\n",
    "        print('mean return', np.mean(returns))\n",
    "        print('std of return', np.std(returns))\n",
    "\n",
    "        expert_data = {'observations': np.array(observations), 'actions': np.array(actions)}\n",
    "\n",
    "        return expert_data\n"
   ]
  },
  {
   "cell_type": "markdown",
   "metadata": {},
   "source": [
    "Тестируем реализованную функцию: num_rollouts=4,max_steps=100,render=True\n",
    "***\n",
    "Замечания:\n",
    "- Если агента не видно, то можно нажать  __Tab__, для перефокусировки камеры\n",
    "- В ряде случаев jupyter notebook может вылетать, при закрытии окна отрисоки, поэтому данное окно закрывать ненужно "
   ]
  },
  {
   "cell_type": "code",
   "execution_count": 3,
   "metadata": {
    "collapsed": true
   },
   "outputs": [
    {
     "name": "stdout",
     "output_type": "stream",
     "text": [
      "WARNING:tensorflow:From d:\\RLWork\\tf_util.py:91: all_variables (from tensorflow.python.ops.variables) is deprecated and will be removed after 2017-03-02.\n",
      "Instructions for updating:\n",
      "Please use tf.global_variables instead.\n",
      "WARNING:tensorflow:From C:\\Users\\Roman\\AppData\\Roaming\\Python\\Python37\\site-packages\\tensorflow\\python\\util\\tf_should_use.py:193: initialize_variables (from tensorflow.python.ops.variables) is deprecated and will be removed after 2017-03-02.\n",
      "Instructions for updating:\n",
      "Use `tf.variables_initializer` instead.\n",
      "Creating window glfw\n",
      "mean return 281.35935638310417\n",
      "std of return 14.11089062513489\n"
     ]
    },
    {
     "data": {
      "text/plain": [
       "{'observations': array([[-6.47392497e-03,  3.97765812e-02,  4.15476136e-02, ...,\n",
       "          1.54680731e-01, -1.54541185e-02,  5.76285256e-02],\n",
       "        [-4.56349386e-02,  9.92089457e-03, -7.29460818e-04, ...,\n",
       "          6.98288692e+00, -1.81998860e+00,  4.78584266e-01],\n",
       "        [-1.03546934e-01, -2.90043192e-03,  1.90217328e-01, ...,\n",
       "          5.44600240e+00,  1.47118766e+00, -4.74753180e-01],\n",
       "        ...,\n",
       "        [ 6.20963063e-02,  2.15772661e-01,  3.43166136e-01, ...,\n",
       "          7.48398220e+00, -9.74053236e+00, -1.16807886e+01],\n",
       "        [ 5.06562528e-02,  1.69370818e-01,  3.42492193e-01, ...,\n",
       "         -2.72292977e+00, -8.56838204e-01,  3.62157228e+00],\n",
       "        [ 1.77337226e-02,  8.03585593e-02, -2.52360280e-01, ...,\n",
       "         -7.67168114e+00,  1.08681244e+01,  1.28754001e+01]]),\n",
       " 'actions': array([[[-0.07227362,  0.66389614, -1.0189767 ,  0.8081571 ,\n",
       "           0.14994252,  0.1498869 ]],\n",
       " \n",
       "        [[ 0.62958664,  0.4544771 , -0.6295796 ,  0.8692487 ,\n",
       "           0.01323357, -0.05990108]],\n",
       " \n",
       "        [[ 0.3335724 ,  0.08926227,  0.07160482,  0.53940266,\n",
       "           0.10988136,  0.3824861 ]],\n",
       " \n",
       "        ...,\n",
       " \n",
       "        [[-0.28908673, -0.7693359 ,  0.6319167 ,  0.53975064,\n",
       "           0.17147288,  0.2018232 ]],\n",
       " \n",
       "        [[-0.8084334 ,  0.7778143 , -0.7577423 ,  0.1816386 ,\n",
       "           0.94328564,  0.7717292 ]],\n",
       " \n",
       "        [[ 0.70341897,  0.6076379 , -0.45873302,  0.14766832,\n",
       "           0.26920602, -0.71438754]]], dtype=float32)}"
      ]
     },
     "execution_count": 3,
     "metadata": {},
     "output_type": "execute_result"
    }
   ],
   "source": [
    "generate_rollouts(num_rollouts=4, max_steps=100, render=True)\n"
   ]
  },
  {
   "cell_type": "markdown",
   "metadata": {},
   "source": [
    "***\n",
    "## 1. Клонирование поведения\n",
    "Клонирование поведения (Behavioural cloning, BC) - метод, с помощью которого компьютерная программа обучается воспроизводить действия эксперта (человека). Действия эксперта записываются, а затем эта статистика используется как входные данные для алгоритма обучения. Этот алгоритм в результате формирует последовательность действий, по которым воспроизводится поведение эксперта.\n",
    "\n",
    "Будем использовать стандартное обучение с учителем и нейронную сеть.\n",
    "\n",
    "Кроме конструктора, вам нужно дореализовать метод __build_model__ и __train__ класса __BC_Model__:"
   ]
  },
  {
   "cell_type": "markdown",
   "metadata": {},
   "source": [
    "### Архитектура нейросети:\n",
    "\n",
    "\n",
    "`input` > `normalization` > `fc1 ~ relu ~ dropout` > `...` > `fcn ~ relu ~ dropout` > `out`, n - число скрытых слоев\n",
    "\n",
    "* Функция активации ReLu на данный момент используется в большенстве нейросетей, поэтому будет использоватаься и в данной архитектуре\n",
    "* Dropout будет использоваться в небольшом размере, чтобы не переобучить нейросеть и не слишком замедлять скорость обучения\n",
    "* В качестве метода оптимизации будет использоваться Adam, так как он был разработан специально для глубоких нейросетей и хорошо зарекоммендовал себя\n",
    "* Скорость обучения обычно выбирается 1e-3 - 1e-4. В данной реализации будет использоваться 1e-3"
   ]
  },
  {
   "cell_type": "code",
   "execution_count": 3,
   "metadata": {},
   "outputs": [],
   "source": [
    "from sklearn.utils import shuffle\n",
    "\n",
    "\n",
    "class BC_Model(object):\n",
    "    def __init__(self, input_data, output_data, batch_size=64, dropout_rate = 0.2, hid_layer_size = 256, num_of_hid_layers = 3):\n",
    "        # созданем сессию tf \n",
    "        self.sess = tf.Session()\n",
    "        # входные и выходные данные, а также их размеры (shapes) \n",
    "        self.batch_size = batch_size\n",
    "        self.input_data = input_data\n",
    "        self.output_data = np.reshape(output_data, (output_data.shape[0], output_data.shape[2]))\n",
    "        self.input_shape = [self.batch_size, self.input_data.shape[-1]]\n",
    "        self.output_shape = [self.batch_size, self.output_data.shape[-1]]\n",
    "        \n",
    "        # расчет мат. ожидания и среднеквадратического отклонения для нормализации\n",
    "        self.data_mean = input_data.mean(axis=0)\n",
    "        self.data_std = input_data.std(axis=0)\n",
    "\n",
    "        # placeholders нейронной сети (input, model output и expert output)\n",
    "        self.input_placeholder = tf.placeholder(tf.float32, shape=self.input_shape)\n",
    "        self.output_placeholder_expert = tf.placeholder(tf.float32, shape=self.output_shape)\n",
    "        self.output_placeholder_model = self.build_model(self.input_placeholder, \n",
    "                                                         dropout_rate, hid_layer_size, num_of_hid_layers)\n",
    "\n",
    "        ### Ваш код здесь - нужно добавить функцию потерь l2_loss (L2 stands for Least Square Errors)\n",
    "        self.loss = tf.nn.l2_loss(self.output_placeholder_model - self.output_placeholder_expert)\n",
    "\n",
    "    def build_model(self, input_placeholder, dropout_rate, hid_layer_size, num_of_hid_layers):\n",
    "        ### Ваш код здесь - нужно реализовать свою архитектуру нейронной сети\n",
    "        \n",
    "        # нормализация\n",
    "        normalized = (input_placeholder - self.data_mean) / self.data_std\n",
    "        \n",
    "        # скрытые слои с dropout\n",
    "        hidden = tf.layers.dense(input_placeholder, hid_layer_size, activation=tf.nn.relu)\n",
    "        hidden = tf.nn.dropout(hidden, rate=dropout_rate)\n",
    "    \n",
    "        for i in np.arange(num_of_hid_layers - 1):\n",
    "            hidden = tf.layers.dense(hidden, hid_layer_size, activation=tf.nn.relu)\n",
    "            hidden = tf.nn.dropout(hidden, rate=dropout_rate)\n",
    "            hidden = tf.layers.dense(hidden, hid_layer_size, activation=tf.nn.relu)\n",
    "            hidden = tf.nn.dropout(hidden, rate=dropout_rate)\n",
    "        \n",
    "        # выходной слой\n",
    "        x = tf.layers.dense(hidden, self.output_data.shape[1])\n",
    "        \n",
    "        return x\n",
    "\n",
    "    def train(self, epochs=100, train_data=None, test_data=None):\n",
    "        if train_data is None and test_data is None:\n",
    "            train_data, test_data = shuffle(self.input_data, self.output_data, random_state=0)\n",
    "        else:\n",
    "            test_data = np.reshape(test_data, (test_data.shape[0], test_data.shape[2]))\n",
    "        \n",
    "        ### Ваш код здесь - используем AdamOptimizer для минимизации функции потерь l2_loss\n",
    "        optimizer = tf.train.AdamOptimizer(learning_rate=1e-3).minimize(self.loss)\n",
    "        \n",
    "        saver = tf.train.Saver()\n",
    "\n",
    "        # размер батчей\n",
    "        batch_idxs = len(train_data) // self.batch_size\n",
    "\n",
    "        # определяем writer()\n",
    "        writer = tf.summary.FileWriter(\"exp\")\n",
    "        writer.add_graph(self.sess.graph)\n",
    "\n",
    "        # инициализируем параметры сети\n",
    "        init_op = tf.global_variables_initializer()\n",
    "        self.sess.run(init_op)\n",
    "        \n",
    "        # итерация по эпохам\n",
    "        print(\"Training...\")\n",
    "        for epoch in tqdm_notebook(range(epochs)):\n",
    "            # итерация по каждому батчу\n",
    "            for idx in range(batch_idxs):\n",
    "                batch_train = train_data[idx * self.batch_size: (idx + 1) * self.batch_size]\n",
    "                batch_value = test_data[idx * self.batch_size: (idx + 1) * self.batch_size]\n",
    "                \n",
    "                ### Ваш код здесь - задаем словарь (feed_train) с входными и выходными данными для обучения \n",
    "                feed_train = {self.input_placeholder: batch_train, self.output_placeholder_expert: batch_value}\n",
    "                \n",
    "                self.sess.run(optimizer, feed_dict=feed_train)\n",
    "\n",
    "        # сохраняем модель\n",
    "        saver.save(self.sess, \"exp\" + \"/behavior_cloning_model\")\n",
    "\n",
    "    def sample(self, input):\n",
    "        # сэмплируем действие для заданного входа\n",
    "        output = self.sess.run(self.output_placeholder_model,\n",
    "                               feed_dict={self.input_placeholder: np.repeat(input[None, :], self.batch_size, axis=0)})\n",
    "        return output[0]\n"
   ]
  },
  {
   "cell_type": "markdown",
   "metadata": {},
   "source": [
    "### Обучем модель на экспертных данных"
   ]
  },
  {
   "cell_type": "code",
   "execution_count": 4,
   "metadata": {},
   "outputs": [],
   "source": [
    "def generate_data(num_rollouts=20, max_steps=200, render=False):\n",
    "    ''' генерирование данных '''\n",
    "    \n",
    "    data = generate_rollouts(num_rollouts=20, max_steps=200, render=False)\n",
    "    x = data['observations']\n",
    "    y = data['actions']\n",
    "    print('dimension of obs :', x.shape)\n",
    "    print('dimension of actions :', y.shape)\n",
    "\n",
    "    # перемешиваем\n",
    "    x, y = shuffle(x, y)\n",
    "    return (x, y)"
   ]
  },
  {
   "cell_type": "code",
   "execution_count": 24,
   "metadata": {},
   "outputs": [
    {
     "name": "stdout",
     "output_type": "stream",
     "text": [
      "mean return 710.9909101359906\n",
      "std of return 34.293250425745924\n",
      "dimension of obs : (4000, 17)\n",
      "dimension of actions : (4000, 1, 6)\n"
     ]
    }
   ],
   "source": [
    "x, y = generate_data()"
   ]
  },
  {
   "cell_type": "code",
   "execution_count": 6,
   "metadata": {},
   "outputs": [
    {
     "name": "stdout",
     "output_type": "stream",
     "text": [
      "WARNING:tensorflow:From <ipython-input-4-9dea31f4fb10>:35: dense (from tensorflow.python.layers.core) is deprecated and will be removed in a future version.\n",
      "Instructions for updating:\n",
      "Use keras.layers.dense instead.\n",
      "WARNING:tensorflow:From C:\\Users\\Roman\\AppData\\Roaming\\Python\\Python37\\site-packages\\tensorflow\\python\\framework\\op_def_library.py:263: colocate_with (from tensorflow.python.framework.ops) is deprecated and will be removed in a future version.\n",
      "Instructions for updating:\n",
      "Colocations handled automatically by placer.\n",
      "Training...\n"
     ]
    },
    {
     "data": {
      "application/vnd.jupyter.widget-view+json": {
       "model_id": "e22dd976ea724d478a8fdd6d2281b863",
       "version_major": 2,
       "version_minor": 0
      },
      "text/plain": [
       "HBox(children=(IntProgress(value=0, max=50), HTML(value='')))"
      ]
     },
     "metadata": {},
     "output_type": "display_data"
    },
    {
     "name": "stdout",
     "output_type": "stream",
     "text": [
      "\n"
     ]
    }
   ],
   "source": [
    "# создаем объект класса BC_Model и запускаем обучение\n",
    "cloner = BC_Model(x, y)\n",
    "cloner.train()"
   ]
  },
  {
   "cell_type": "markdown",
   "metadata": {},
   "source": [
    "### Испытываем модель"
   ]
  },
  {
   "cell_type": "code",
   "execution_count": 5,
   "metadata": {},
   "outputs": [],
   "source": [
    "def test_model(model, num_eval_rollouts = 20):\n",
    "    ''' Тестирование модели '''\n",
    "    \n",
    "    # итерация по числу rollouts\n",
    "    returns = []\n",
    "    print(\"Testing...\")\n",
    "    for i in tqdm_notebook(range(num_eval_rollouts)):\n",
    "        totalr = 0\n",
    "        done = False\n",
    "        obs = env.reset()\n",
    "        # цикл, пока эпизод не закончится\n",
    "        while not done:\n",
    "            # получаем действие от обученной модели \n",
    "            action = model.sample(obs)\n",
    "            # применяем действие\n",
    "            obs, r, done, _ = env.step(action)\n",
    "            env.render()\n",
    "            totalr += r\n",
    "        returns.append(totalr)\n",
    "    return returns"
   ]
  },
  {
   "cell_type": "code",
   "execution_count": 8,
   "metadata": {},
   "outputs": [
    {
     "name": "stdout",
     "output_type": "stream",
     "text": [
      "Testing...\n"
     ]
    },
    {
     "data": {
      "application/vnd.jupyter.widget-view+json": {
       "model_id": "5e777fc45e6440d6b828ef6cefd348ce",
       "version_major": 2,
       "version_minor": 0
      },
      "text/plain": [
       "HBox(children=(IntProgress(value=0, max=20), HTML(value='')))"
      ]
     },
     "metadata": {},
     "output_type": "display_data"
    },
    {
     "name": "stdout",
     "output_type": "stream",
     "text": [
      "\n",
      "mean return 3046.1142652622884\n",
      "std of return 206.97557611684044\n"
     ]
    }
   ],
   "source": [
    "total_rewards = test_model(cloner)\n",
    "print('mean return', np.mean(total_rewards))\n",
    "print('std of return', np.std(total_rewards))"
   ]
  },
  {
   "cell_type": "markdown",
   "metadata": {},
   "source": [
    "***\n",
    "__Задание 1.1.__ Вам необходимо обучить модель на любых трех окружениях MuJoCo. Построить графики отдачи (totalr) в зависимости от количества набранной статистики (num_rollouts) для обучения."
   ]
  },
  {
   "cell_type": "code",
   "execution_count": 7,
   "metadata": {},
   "outputs": [],
   "source": [
    "def get_model_rewards(env_name):\n",
    "    ''' получение rewards из модели для различного размера задаваемой статистики '''\n",
    "    rewards = []\n",
    "    \n",
    "    display.clear_output()\n",
    "    print(env_name)\n",
    "    # получаем данные с эксперта для заданного размера набираемой статистики\n",
    "    for i in tqdm_notebook(np.arange(20, 201, 20)):\n",
    "        x, y = generate_data(num_rollouts=i)\n",
    "        testing_model = BC_Model(x, y)\n",
    "        testing_model.train()\n",
    "        total_rewards = test_model(testing_model)\n",
    "        rewards.append(np.mean(total_rewards))\n",
    "    return {\"rewards\": rewards, \"x\": np.arange(20, 201, 20)}"
   ]
  },
  {
   "cell_type": "markdown",
   "metadata": {},
   "source": [
    "Расчет качества моделей в зависимости от количества набираемой статистики для моделей __Ant-v2__, __HalfCheetah-v2__ и __Hopper-v2__."
   ]
  },
  {
   "cell_type": "code",
   "execution_count": 8,
   "metadata": {},
   "outputs": [
    {
     "name": "stdout",
     "output_type": "stream",
     "text": [
      "Hopper-v2\n"
     ]
    },
    {
     "data": {
      "application/vnd.jupyter.widget-view+json": {
       "model_id": "db3802340223483b8a5b74eb9b832304",
       "version_major": 2,
       "version_minor": 0
      },
      "text/plain": [
       "HBox(children=(IntProgress(value=0, max=10), HTML(value='')))"
      ]
     },
     "metadata": {},
     "output_type": "display_data"
    },
    {
     "name": "stdout",
     "output_type": "stream",
     "text": [
      "mean return 595.0560775320657\n",
      "std of return 1.2054883807296155\n",
      "dimension of obs : (4000, 11)\n",
      "dimension of actions : (4000, 1, 3)\n",
      "Training...\n"
     ]
    },
    {
     "data": {
      "application/vnd.jupyter.widget-view+json": {
       "model_id": "ab207afa1d714b6ba3b36faba422c19a",
       "version_major": 2,
       "version_minor": 0
      },
      "text/plain": [
       "HBox(children=(IntProgress(value=0, max=20), HTML(value='')))"
      ]
     },
     "metadata": {},
     "output_type": "display_data"
    },
    {
     "name": "stdout",
     "output_type": "stream",
     "text": [
      "Testing...\n"
     ]
    },
    {
     "data": {
      "application/vnd.jupyter.widget-view+json": {
       "model_id": "ff6566574ab54084a6491000637369e0",
       "version_major": 2,
       "version_minor": 0
      },
      "text/plain": [
       "HBox(children=(IntProgress(value=0, max=20), HTML(value='')))"
      ]
     },
     "metadata": {},
     "output_type": "display_data"
    },
    {
     "name": "stdout",
     "output_type": "stream",
     "text": [
      "Creating window glfw\n",
      "mean return 594.8611647492502\n",
      "std of return 0.9640952572291057\n",
      "dimension of obs : (4000, 11)\n",
      "dimension of actions : (4000, 1, 3)\n",
      "Training...\n"
     ]
    },
    {
     "data": {
      "application/vnd.jupyter.widget-view+json": {
       "model_id": "f82b2ae1e6414b5aa68fe4862fc1a35f",
       "version_major": 2,
       "version_minor": 0
      },
      "text/plain": [
       "HBox(children=(IntProgress(value=0, max=20), HTML(value='')))"
      ]
     },
     "metadata": {},
     "output_type": "display_data"
    },
    {
     "name": "stdout",
     "output_type": "stream",
     "text": [
      "Testing...\n"
     ]
    },
    {
     "data": {
      "application/vnd.jupyter.widget-view+json": {
       "model_id": "499bf3b295794039b59d5bdfe8129b46",
       "version_major": 2,
       "version_minor": 0
      },
      "text/plain": [
       "HBox(children=(IntProgress(value=0, max=20), HTML(value='')))"
      ]
     },
     "metadata": {},
     "output_type": "display_data"
    },
    {
     "name": "stdout",
     "output_type": "stream",
     "text": [
      "mean return 594.6033946055084\n",
      "std of return 1.5184158894097928\n",
      "dimension of obs : (4000, 11)\n",
      "dimension of actions : (4000, 1, 3)\n",
      "Training...\n"
     ]
    },
    {
     "data": {
      "application/vnd.jupyter.widget-view+json": {
       "model_id": "f8c0eb07d925424d90afafc7d6cd19ed",
       "version_major": 2,
       "version_minor": 0
      },
      "text/plain": [
       "HBox(children=(IntProgress(value=0, max=20), HTML(value='')))"
      ]
     },
     "metadata": {},
     "output_type": "display_data"
    },
    {
     "name": "stdout",
     "output_type": "stream",
     "text": [
      "Testing...\n"
     ]
    },
    {
     "data": {
      "application/vnd.jupyter.widget-view+json": {
       "model_id": "8a1c9dce27784432a37071263e1e9fd5",
       "version_major": 2,
       "version_minor": 0
      },
      "text/plain": [
       "HBox(children=(IntProgress(value=0, max=20), HTML(value='')))"
      ]
     },
     "metadata": {},
     "output_type": "display_data"
    },
    {
     "name": "stdout",
     "output_type": "stream",
     "text": [
      "mean return 594.6795899777984\n",
      "std of return 1.2499575896064672\n",
      "dimension of obs : (4000, 11)\n",
      "dimension of actions : (4000, 1, 3)\n",
      "Training...\n"
     ]
    },
    {
     "data": {
      "application/vnd.jupyter.widget-view+json": {
       "model_id": "34b6a5e3934143939db3f12fff0ece7a",
       "version_major": 2,
       "version_minor": 0
      },
      "text/plain": [
       "HBox(children=(IntProgress(value=0, max=20), HTML(value='')))"
      ]
     },
     "metadata": {},
     "output_type": "display_data"
    },
    {
     "name": "stdout",
     "output_type": "stream",
     "text": [
      "Testing...\n"
     ]
    },
    {
     "data": {
      "application/vnd.jupyter.widget-view+json": {
       "model_id": "5e644d0b6baa4445880b36ca9bdcdf5f",
       "version_major": 2,
       "version_minor": 0
      },
      "text/plain": [
       "HBox(children=(IntProgress(value=0, max=20), HTML(value='')))"
      ]
     },
     "metadata": {},
     "output_type": "display_data"
    },
    {
     "name": "stdout",
     "output_type": "stream",
     "text": [
      "mean return 594.4737870363838\n",
      "std of return 1.165570355718805\n",
      "dimension of obs : (4000, 11)\n",
      "dimension of actions : (4000, 1, 3)\n",
      "Training...\n"
     ]
    },
    {
     "data": {
      "application/vnd.jupyter.widget-view+json": {
       "model_id": "cd073f6f620b4fd4be671cdd1d0efbb5",
       "version_major": 2,
       "version_minor": 0
      },
      "text/plain": [
       "HBox(children=(IntProgress(value=0, max=20), HTML(value='')))"
      ]
     },
     "metadata": {},
     "output_type": "display_data"
    },
    {
     "name": "stdout",
     "output_type": "stream",
     "text": [
      "Testing...\n"
     ]
    },
    {
     "data": {
      "application/vnd.jupyter.widget-view+json": {
       "model_id": "e3d51b2074d14c3a865d0bc191766f1a",
       "version_major": 2,
       "version_minor": 0
      },
      "text/plain": [
       "HBox(children=(IntProgress(value=0, max=20), HTML(value='')))"
      ]
     },
     "metadata": {},
     "output_type": "display_data"
    },
    {
     "name": "stdout",
     "output_type": "stream",
     "text": [
      "mean return 594.3684025220864\n",
      "std of return 1.3835347244166891\n",
      "dimension of obs : (4000, 11)\n",
      "dimension of actions : (4000, 1, 3)\n",
      "Training...\n"
     ]
    },
    {
     "data": {
      "application/vnd.jupyter.widget-view+json": {
       "model_id": "a21c486efaf04f7591f3d33c741fdeeb",
       "version_major": 2,
       "version_minor": 0
      },
      "text/plain": [
       "HBox(children=(IntProgress(value=0, max=20), HTML(value='')))"
      ]
     },
     "metadata": {},
     "output_type": "display_data"
    },
    {
     "name": "stdout",
     "output_type": "stream",
     "text": [
      "Testing...\n"
     ]
    },
    {
     "data": {
      "application/vnd.jupyter.widget-view+json": {
       "model_id": "2302007d64e34df2ad220d684179527e",
       "version_major": 2,
       "version_minor": 0
      },
      "text/plain": [
       "HBox(children=(IntProgress(value=0, max=20), HTML(value='')))"
      ]
     },
     "metadata": {},
     "output_type": "display_data"
    },
    {
     "name": "stdout",
     "output_type": "stream",
     "text": [
      "mean return 594.498288543087\n",
      "std of return 0.9313781529940992\n",
      "dimension of obs : (4000, 11)\n",
      "dimension of actions : (4000, 1, 3)\n",
      "Training...\n"
     ]
    },
    {
     "data": {
      "application/vnd.jupyter.widget-view+json": {
       "model_id": "f3dd8343e18e4a69a76128d767466d4a",
       "version_major": 2,
       "version_minor": 0
      },
      "text/plain": [
       "HBox(children=(IntProgress(value=0, max=20), HTML(value='')))"
      ]
     },
     "metadata": {},
     "output_type": "display_data"
    },
    {
     "name": "stdout",
     "output_type": "stream",
     "text": [
      "Testing...\n"
     ]
    },
    {
     "data": {
      "application/vnd.jupyter.widget-view+json": {
       "model_id": "9ed694c22a3a4a218689be8a574bd9a5",
       "version_major": 2,
       "version_minor": 0
      },
      "text/plain": [
       "HBox(children=(IntProgress(value=0, max=20), HTML(value='')))"
      ]
     },
     "metadata": {},
     "output_type": "display_data"
    },
    {
     "name": "stdout",
     "output_type": "stream",
     "text": [
      "mean return 594.5169948908144\n",
      "std of return 1.1780797145263364\n",
      "dimension of obs : (4000, 11)\n",
      "dimension of actions : (4000, 1, 3)\n",
      "Training...\n"
     ]
    },
    {
     "data": {
      "application/vnd.jupyter.widget-view+json": {
       "model_id": "a0a81950e1e3448fbeeac8bfec65399e",
       "version_major": 2,
       "version_minor": 0
      },
      "text/plain": [
       "HBox(children=(IntProgress(value=0, max=20), HTML(value='')))"
      ]
     },
     "metadata": {},
     "output_type": "display_data"
    },
    {
     "name": "stdout",
     "output_type": "stream",
     "text": [
      "Testing...\n"
     ]
    },
    {
     "data": {
      "application/vnd.jupyter.widget-view+json": {
       "model_id": "75c3d21473484d60b4cc9adb4a93bfa0",
       "version_major": 2,
       "version_minor": 0
      },
      "text/plain": [
       "HBox(children=(IntProgress(value=0, max=20), HTML(value='')))"
      ]
     },
     "metadata": {},
     "output_type": "display_data"
    },
    {
     "name": "stdout",
     "output_type": "stream",
     "text": [
      "mean return 594.3011136383642\n",
      "std of return 1.2252166120092638\n",
      "dimension of obs : (4000, 11)\n",
      "dimension of actions : (4000, 1, 3)\n",
      "Training...\n"
     ]
    },
    {
     "data": {
      "application/vnd.jupyter.widget-view+json": {
       "model_id": "aeda3608db9e4b88b1f9934f8092617d",
       "version_major": 2,
       "version_minor": 0
      },
      "text/plain": [
       "HBox(children=(IntProgress(value=0, max=20), HTML(value='')))"
      ]
     },
     "metadata": {},
     "output_type": "display_data"
    },
    {
     "name": "stdout",
     "output_type": "stream",
     "text": [
      "Testing...\n"
     ]
    },
    {
     "data": {
      "application/vnd.jupyter.widget-view+json": {
       "model_id": "ceaad0e6b4a447d5887c7ca627a04512",
       "version_major": 2,
       "version_minor": 0
      },
      "text/plain": [
       "HBox(children=(IntProgress(value=0, max=20), HTML(value='')))"
      ]
     },
     "metadata": {},
     "output_type": "display_data"
    },
    {
     "name": "stdout",
     "output_type": "stream",
     "text": [
      "mean return 594.7698523559272\n",
      "std of return 1.3610050871004775\n",
      "dimension of obs : (4000, 11)\n",
      "dimension of actions : (4000, 1, 3)\n",
      "Training...\n"
     ]
    },
    {
     "data": {
      "application/vnd.jupyter.widget-view+json": {
       "model_id": "baa0c137bcae4fbeb264e926ad9e7658",
       "version_major": 2,
       "version_minor": 0
      },
      "text/plain": [
       "HBox(children=(IntProgress(value=0, max=20), HTML(value='')))"
      ]
     },
     "metadata": {},
     "output_type": "display_data"
    },
    {
     "name": "stdout",
     "output_type": "stream",
     "text": [
      "Testing...\n"
     ]
    },
    {
     "data": {
      "application/vnd.jupyter.widget-view+json": {
       "model_id": "9307b1e3075e40b0b301c822c1ffdf44",
       "version_major": 2,
       "version_minor": 0
      },
      "text/plain": [
       "HBox(children=(IntProgress(value=0, max=20), HTML(value='')))"
      ]
     },
     "metadata": {},
     "output_type": "display_data"
    },
    {
     "name": "stdout",
     "output_type": "stream",
     "text": [
      "\n"
     ]
    }
   ],
   "source": [
    "### Ant-v2\n",
    "# генерируем окружение\n",
    "env_name=\"Ant-v2\"\n",
    "expert_policy_file = \"experts/\" + env_name + \".pkl\"\n",
    "policy_fn = load_policy.load_policy(expert_policy_file)\n",
    "env = gym.make(env_name)\n",
    "\n",
    "# получаем rewards\n",
    "ant_rewards = get_model_rewards(env_name)\n",
    "\n",
    "\n",
    "### HalfCheetah-v2\n",
    "env_name=\"HalfCheetah-v2\"\n",
    "expert_policy_file = \"experts/\" + env_name + \".pkl\"\n",
    "policy_fn = load_policy.load_policy(expert_policy_file)\n",
    "env = gym.make(env_name)\n",
    "\n",
    "half_cheetah_rewards = get_model_rewards(env_name)\n",
    "\n",
    "\n",
    "### Hopper-v2\n",
    "env_name=\"Hopper-v2\"\n",
    "expert_policy_file = \"experts/\" + env_name + \".pkl\"\n",
    "policy_fn = load_policy.load_policy(expert_policy_file)\n",
    "env = gym.make(env_name)\n",
    "\n",
    "hopper_rewards = get_model_rewards(env_name)"
   ]
  },
  {
   "cell_type": "code",
   "execution_count": 10,
   "metadata": {},
   "outputs": [
    {
     "data": {
      "image/png": "[encoded data removed]",
      "text/plain": [
       "<Figure size 432x288 with 1 Axes>"
      ]
     },
     "metadata": {
      "needs_background": "light"
     },
     "output_type": "display_data"
    }
   ],
   "source": [
    "plt.plot(ant_rewards[\"x\"], ant_rewards[\"rewards\"], 'r', label='Ant-v2')\n",
    "plt.plot(half_cheetah_rewards[\"x\"], half_cheetah_rewards[\"rewards\"], 'b', label='HalfCheetah-v2')\n",
    "plt.plot(hopper_rewards[\"x\"], hopper_rewards[\"rewards\"], 'g', label='Hopper-v2')\n",
    "plt.title('Dependence of remuneration on the num_rollouts')\n",
    "plt.xlabel('num_rollouts')\n",
    "plt.ylabel('Rewards')\n",
    "plt.legend()\n",
    "plt.show()"
   ]
  },
  {
   "cell_type": "markdown",
   "metadata": {},
   "source": [
    "Как видно из графиков для более простых моделей достаточно небольшого количества набранной статистики, в то время как для более сложных требуется моделей требуется больше статистики и больше шагов, хотя для модели Ant-v2 слишком большое количество статистики так же было не в пользу.\n",
    "\n",
    "Так же из данного графика видно, что архитектура хорошо подходит для __HalfCheetah__, но совсем не подходит для __Hooper__."
   ]
  },
  {
   "cell_type": "markdown",
   "metadata": {},
   "source": [
    "***\n",
    "__Задание 1.2.__ Выберите несколько гиперапараметров вашей модели, которые влияют на качество обучения (количество эпох, количество слоев и т.п.). Для одного из окружений постройте графики влияния значений этих параметров на качество обучения (totalr)."
   ]
  },
  {
   "cell_type": "markdown",
   "metadata": {},
   "source": [
    "### В качестве окружения используется HalfCheetah"
   ]
  },
  {
   "cell_type": "code",
   "execution_count": 9,
   "metadata": {},
   "outputs": [],
   "source": [
    "def test_model_with_parameters(parameter, values):\n",
    "    ''' Тестирования качества обучения модели от заданного параметра '''\n",
    "    \n",
    "    rewards = []\n",
    "    for (i, value) in enumerate(values):\n",
    "        display.clear_output()\n",
    "        print(parameter)\n",
    "        print(\"[\" + str(i+1) + \" : \" + str(len(values)) + \"]\\t Value = \" + str(value) + \"\\n\")\n",
    "        \n",
    "        # использование соответствующего параметра\n",
    "        if (parameter == \"Epochs\"):\n",
    "            testing_model = BC_Model(x, y)\n",
    "            testing_model.train(epochs=value)\n",
    "        elif(parameter == \"Dropout rates\"):\n",
    "            testing_model = BC_Model(x, y, dropout_rate=value)\n",
    "            testing_model.train()\n",
    "        elif(parameter == \"Numbers of hidden layers\"):\n",
    "            testing_model = BC_Model(x, y, num_of_hid_layers=value)\n",
    "            testing_model.train()\n",
    "        elif(parameter == \"Sizes of hidden layers\"):\n",
    "            testing_model = BC_Model(x, y, hid_layer_size=value)\n",
    "            testing_model.train()\n",
    "        \n",
    "        # расчитываем среднюю награду с заданным параметром \n",
    "        total_rewards = test_model(testing_model)\n",
    "        rewards.append(np.mean(total_rewards))\n",
    "    \n",
    "    return {\"parameter\": parameter, \"rewards\": rewards, \"x\": values}\n",
    "    "
   ]
  },
  {
   "cell_type": "code",
   "execution_count": 10,
   "metadata": {},
   "outputs": [],
   "source": [
    "def draw_graph(res_rewards, plot):\n",
    "    ''' Вывод графика зависимости качества обучения от параметра на экран '''\n",
    "    \n",
    "    plot.plot(res_rewards[\"x\"], res_rewards[\"rewards\"], 'b', label='Mean reward')\n",
    "    plot.set_title('Rewards and ' + str(res_rewards[\"parameter\"]))\n",
    "    plot.set_xlabel(str(res_rewards[\"parameter\"]))\n",
    "    plot.set_ylabel('Rewards')"
   ]
  },
  {
   "cell_type": "markdown",
   "metadata": {},
   "source": [
    "## Зависимость качества обучения\n",
    "### От эпох"
   ]
  },
  {
   "cell_type": "code",
   "execution_count": 11,
   "metadata": {
    "collapsed": true
   },
   "outputs": [
    {
     "name": "stdout",
     "output_type": "stream",
     "text": [
      "Epochs\n",
      "[12 : 12]\t Value = 600\n",
      "\n",
      "Training...\n"
     ]
    },
    {
     "data": {
      "application/vnd.jupyter.widget-view+json": {
       "model_id": "db4dd5d097e3435f9870b1be20bb88aa",
       "version_major": 2,
       "version_minor": 0
      },
      "text/plain": [
       "HBox(children=(IntProgress(value=0, max=600), HTML(value='')))"
      ]
     },
     "metadata": {},
     "output_type": "display_data"
    },
    {
     "name": "stdout",
     "output_type": "stream",
     "text": [
      "\n",
      "Testing...\n"
     ]
    },
    {
     "data": {
      "application/vnd.jupyter.widget-view+json": {
       "model_id": "30a3740b011b4eccbc53f5c9d4ea3981",
       "version_major": 2,
       "version_minor": 0
      },
      "text/plain": [
       "HBox(children=(IntProgress(value=0, max=20), HTML(value='')))"
      ]
     },
     "metadata": {},
     "output_type": "display_data"
    },
    {
     "name": "stdout",
     "output_type": "stream",
     "text": [
      "\n"
     ]
    }
   ],
   "source": [
    "epochs_rewards = test_model_with_parameters(\"Epochs\", [i for i in np.arange(50, 601, 50)])"
   ]
  },
  {
   "cell_type": "markdown",
   "metadata": {},
   "source": [
    "### От dropout"
   ]
  },
  {
   "cell_type": "code",
   "execution_count": 12,
   "metadata": {
    "collapsed": true
   },
   "outputs": [
    {
     "name": "stdout",
     "output_type": "stream",
     "text": [
      "Dropout rates\n",
      "[5 : 5]\t Value = 0.5\n",
      "\n",
      "Training...\n"
     ]
    },
    {
     "data": {
      "application/vnd.jupyter.widget-view+json": {
       "model_id": "c6082fe0bcce4055a2f1cb2c33bc3425",
       "version_major": 2,
       "version_minor": 0
      },
      "text/plain": [
       "HBox(children=(IntProgress(value=0, max=50), HTML(value='')))"
      ]
     },
     "metadata": {},
     "output_type": "display_data"
    },
    {
     "name": "stdout",
     "output_type": "stream",
     "text": [
      "\n",
      "Testing...\n"
     ]
    },
    {
     "data": {
      "application/vnd.jupyter.widget-view+json": {
       "model_id": "ea734c21f50a4f1ea49932d74307accd",
       "version_major": 2,
       "version_minor": 0
      },
      "text/plain": [
       "HBox(children=(IntProgress(value=0, max=20), HTML(value='')))"
      ]
     },
     "metadata": {},
     "output_type": "display_data"
    },
    {
     "name": "stdout",
     "output_type": "stream",
     "text": [
      "\n"
     ]
    }
   ],
   "source": [
    "dropout_rates_rewards = test_model_with_parameters(\"Dropout rates\", [0.1, 0.2, 0.3, 0.4, 0.5])"
   ]
  },
  {
   "cell_type": "markdown",
   "metadata": {},
   "source": [
    "### От числа скрытых слоев"
   ]
  },
  {
   "cell_type": "code",
   "execution_count": 16,
   "metadata": {
    "collapsed": true
   },
   "outputs": [
    {
     "name": "stdout",
     "output_type": "stream",
     "text": [
      "Numbers of hidden layers\n",
      "[9 : 9]\t Value = 9\n",
      "\n",
      "Training...\n"
     ]
    },
    {
     "data": {
      "application/vnd.jupyter.widget-view+json": {
       "model_id": "8a5162abf9244726b4887fbe51d8b7bc",
       "version_major": 2,
       "version_minor": 0
      },
      "text/plain": [
       "HBox(children=(IntProgress(value=0, max=50), HTML(value='')))"
      ]
     },
     "metadata": {},
     "output_type": "display_data"
    },
    {
     "name": "stdout",
     "output_type": "stream",
     "text": [
      "\n",
      "Testing...\n"
     ]
    },
    {
     "data": {
      "application/vnd.jupyter.widget-view+json": {
       "model_id": "b34ca1b7f1a04010b9daa2b70fbeced6",
       "version_major": 2,
       "version_minor": 0
      },
      "text/plain": [
       "HBox(children=(IntProgress(value=0, max=20), HTML(value='')))"
      ]
     },
     "metadata": {},
     "output_type": "display_data"
    },
    {
     "name": "stdout",
     "output_type": "stream",
     "text": [
      "\n"
     ]
    }
   ],
   "source": [
    "num_of_hid_layers_rewards = test_model_with_parameters(\"Numbers of hidden layers\", [1, 2, 3, 4, 5, 6, 7, 8, 9])"
   ]
  },
  {
   "cell_type": "markdown",
   "metadata": {},
   "source": [
    "### От размеров скрытых слоев"
   ]
  },
  {
   "cell_type": "code",
   "execution_count": 14,
   "metadata": {},
   "outputs": [
    {
     "name": "stdout",
     "output_type": "stream",
     "text": [
      "Sizes of hidden layers\n",
      "[6 : 6]\t Value = 1024\n",
      "\n",
      "Training...\n"
     ]
    },
    {
     "data": {
      "application/vnd.jupyter.widget-view+json": {
       "model_id": "8ed8f463ca93438d9f60850209683958",
       "version_major": 2,
       "version_minor": 0
      },
      "text/plain": [
       "HBox(children=(IntProgress(value=0, max=50), HTML(value='')))"
      ]
     },
     "metadata": {},
     "output_type": "display_data"
    },
    {
     "name": "stdout",
     "output_type": "stream",
     "text": [
      "\n",
      "Testing...\n"
     ]
    },
    {
     "data": {
      "application/vnd.jupyter.widget-view+json": {
       "model_id": "79770eda2c384bfda5f1f0d353c7c935",
       "version_major": 2,
       "version_minor": 0
      },
      "text/plain": [
       "HBox(children=(IntProgress(value=0, max=20), HTML(value='')))"
      ]
     },
     "metadata": {},
     "output_type": "display_data"
    },
    {
     "name": "stdout",
     "output_type": "stream",
     "text": [
      "\n"
     ]
    }
   ],
   "source": [
    "sizes_of_hid_layers_rewards = test_model_with_parameters(\"Sizes of hidden layers\",  [32, 64, 128, 256, 512, 1024])"
   ]
  },
  {
   "cell_type": "code",
   "execution_count": 17,
   "metadata": {},
   "outputs": [
    {
     "data": {
      "image/png": "[encoded data removed]",
      "text/plain": [
       "<Figure size 1152x720 with 4 Axes>"
      ]
     },
     "metadata": {
      "needs_background": "light"
     },
     "output_type": "display_data"
    }
   ],
   "source": [
    "# вывод графиков зависимости качества модели от заданных параметров\n",
    "_, axes = plt.subplots(2, 2, figsize=(16, 10))\n",
    "draw_graph(epochs_rewards, axes[0][0])\n",
    "draw_graph(dropout_rates_rewards, axes[0][1])\n",
    "draw_graph(num_of_hid_layers_rewards, axes[1][0])\n",
    "draw_graph(sizes_of_hid_layers_rewards, axes[1][1])\n",
    "plt.show()"
   ]
  },
  {
   "cell_type": "markdown",
   "metadata": {},
   "source": [
    "На основе графиков видно, что для модели __HalfCheetah__ наиболее оптимальные параметры:\n",
    " * __200 эпох на обучение__, при большем числе эпох модель не сильно улучшается в качестве, но может переобучиться;\n",
    " * __dropout <= 0.2__, так как сильно уменьшает скорость обучения и может ухудшить качество модели;\n",
    " * __2-3 полносвязных скрытых слоя__;\n",
    " * __256-512 нейронов на скрытых слоях__.\n",
    " \n",
    "Для каждого окружения (enviroment) необходимо подбирать наиболее оптимальные параметры. Данные проверки относятся только к __HalfCheetan__."
   ]
  },
  {
   "cell_type": "markdown",
   "metadata": {},
   "source": [
    "### Обучим модель HalfCheetah с оптимальными параметрами"
   ]
  },
  {
   "cell_type": "code",
   "execution_count": 20,
   "metadata": {},
   "outputs": [
    {
     "name": "stdout",
     "output_type": "stream",
     "text": [
      "Training...\n"
     ]
    },
    {
     "data": {
      "application/vnd.jupyter.widget-view+json": {
       "model_id": "673c9a9c71324ef8b982863814e0ff7e",
       "version_major": 2,
       "version_minor": 0
      },
      "text/plain": [
       "HBox(children=(IntProgress(value=0, max=200), HTML(value='')))"
      ]
     },
     "metadata": {},
     "output_type": "display_data"
    },
    {
     "name": "stdout",
     "output_type": "stream",
     "text": [
      "\n",
      "Testing...\n"
     ]
    },
    {
     "data": {
      "application/vnd.jupyter.widget-view+json": {
       "model_id": "5dbe2a07656c4674a7406c184fbea53f",
       "version_major": 2,
       "version_minor": 0
      },
      "text/plain": [
       "HBox(children=(IntProgress(value=0, max=20), HTML(value='')))"
      ]
     },
     "metadata": {},
     "output_type": "display_data"
    },
    {
     "name": "stdout",
     "output_type": "stream",
     "text": [
      "\n",
      "mean return 3774.4280839447006\n",
      "std of return 130.7513262295433\n"
     ]
    }
   ],
   "source": [
    "cloner2 = BC_Model(x, y, dropout_rate = 0.2, hid_layer_size = 256, num_of_hid_layers = 3)\n",
    "cloner2.train(epochs=200)\n",
    "total_rewards = test_model(cloner2)\n",
    "print('mean return', np.mean(total_rewards))\n",
    "print('std of return', np.std(total_rewards))"
   ]
  },
  {
   "cell_type": "markdown",
   "metadata": {},
   "source": [
    "Среднее качества модели значительно больше экспертной (3774 > 710) , даже учитывая немного большую дисперсию."
   ]
  },
  {
   "cell_type": "markdown",
   "metadata": {},
   "source": [
    "***\n",
    "## 2. DAgger Algorithm"
   ]
  },
  {
   "cell_type": "markdown",
   "metadata": {},
   "source": [
    "Цель алгоритма DAgger (data Aggregation) - собрать статистику обучаемой модели, вместо экспертных данных. \n",
    "- Вначале мы тренируем BC_Model на собранных экспертных данных.\n",
    "- Запускаем модель на окружениие, собираем наблюдения.\n",
    "- Затем мы просим эксперта (человека) отметить, какие действия нужно совершать в полученных наблюдениях (по сути используем __policy_fn__).\n",
    "- Создаем новую коллекцию помеченных и экспертных данных.\n",
    "- Потворяем."
   ]
  },
  {
   "cell_type": "markdown",
   "metadata": {},
   "source": [
    "![image.png](dagger.png)"
   ]
  },
  {
   "cell_type": "code",
   "execution_count": 12,
   "metadata": {},
   "outputs": [],
   "source": [
    "with tf.Session():\n",
    "    DAgger_iter = 30\n",
    "    render = False\n",
    "    # цикл алгоритма DAgger \n",
    "    for i in tqdm_notebook(range(DAgger_iter)):\n",
    "        # инициализация на каждой итерации\n",
    "        new_obs = []\n",
    "        new_actions = []\n",
    "        obs = env.reset()\n",
    "        done = False\n",
    "        # собираем данные модели и эксперта\n",
    "        while not done:\n",
    "            ### Ваш код здесь - получаем действие, используя обученную модель\n",
    "            action = cloner.sample(obs)\n",
    "\n",
    "            obs, _, done, _ = env.step(action)\n",
    "            if render:\n",
    "                env.render()\n",
    "            # получаем экспертное действия для того же входа \n",
    "            ### Ваш код здесь - испольузуем policy_fn\n",
    "            # corrected_action = \n",
    "            corrected_action = policy_fn(obs[None, :])\n",
    "\n",
    "            # добавляем наблюдение и действие эксперта в набор данных\n",
    "            new_obs.append(obs)\n",
    "            new_actions.append(corrected_action)\n",
    "        # переупорядочиваем данные\n",
    "        x = np.concatenate((x, obs[None, :]), axis=0)\n",
    "        y = np.concatenate((y, corrected_action[None, :]), axis=0)\n",
    "        ### Ваш код здесь - дообучаем модель на обновленных данных\n",
    "        cloner.train(train_data=x, test_data=y)"
   ]
  },
  {
   "cell_type": "markdown",
   "metadata": {},
   "source": [
    "### Проверяем работу"
   ]
  },
  {
   "cell_type": "code",
   "execution_count": 15,
   "metadata": {},
   "outputs": [
    {
     "name": "stdout",
     "output_type": "stream",
     "text": [
      "mean return 1602.6001610694427\n",
      "std of return 229.78268946196587\n"
     ]
    }
   ],
   "source": [
    "num_eval_rollouts = 20\n",
    "# итерация по rollouts\n",
    "returns = []\n",
    "for i in range(num_eval_rollouts):\n",
    "    # инициализация\n",
    "    totalr = 0\n",
    "    done = False\n",
    "    obs = env.reset()\n",
    "    # цикл до конца эпизода\n",
    "    while not done:\n",
    "        # получаем действие от обученной модели\n",
    "        action = cloner.sample(obs)\n",
    "        # применяем действие в среде\n",
    "        obs, r, done, _ = env.step(action)\n",
    "        env.render()\n",
    "        totalr += r\n",
    "    returns.append(totalr)\n",
    "print('mean return', np.mean(returns))\n",
    "print('std of return', np.std(returns))\n"
   ]
  },
  {
   "cell_type": "markdown",
   "metadata": {},
   "source": [
    "__Задание 2.1.__ Проверьте работу DAagger на всех задачах MuJoco - укажите для какой задачи он работает лучше, чем простое клонирование. Покажите это на графиках."
   ]
  },
  {
   "cell_type": "code",
   "execution_count": 6,
   "metadata": {},
   "outputs": [],
   "source": [
    "def test_model_with_DAgger(env_name):\n",
    "    display.clear_output()\n",
    "    print(env_name)\n",
    "    \n",
    "    x, y = generate_data()\n",
    "    testing_model = BC_Model(x, y)\n",
    "    testing_model.train()\n",
    "    total_reward = np.mean(test_model(testing_model))\n",
    "    \n",
    "    # дообучаем модель с алгоритмом DAgger\n",
    "    with tf.Session():\n",
    "        for i in range(20):\n",
    "            new_obs = []\n",
    "            new_actions = []\n",
    "            obs = env.reset()\n",
    "            done = False\n",
    "            while not done:\n",
    "                action = testing_model.sample(obs)\n",
    "                obs, _, done, _ = env.step(action)\n",
    "                corrected_action = policy_fn(obs[None, :])\n",
    "                new_obs.append(obs)\n",
    "                new_actions.append(corrected_action)\n",
    "            x = np.concatenate((x, obs[None, :]), axis=0)\n",
    "            y = np.concatenate((y, corrected_action[None, :]), axis=0)\n",
    "            testing_model.train(train_data=x, test_data=y, epochs=20)\n",
    "    \n",
    "    da_total_reward = np.mean(test_model(testing_model))\n",
    "    return {\"reward\": total_reward, \"DA reward\": da_total_reward}"
   ]
  },
  {
   "cell_type": "code",
   "execution_count": 8,
   "metadata": {
    "scrolled": true
   },
   "outputs": [
    {
     "name": "stdout",
     "output_type": "stream",
     "text": [
      "Walker2d-v2\n",
      "mean return 686.74957736026\n",
      "std of return 5.792500019566628\n",
      "dimension of obs : (4000, 17)\n",
      "dimension of actions : (4000, 1, 6)\n",
      "Training...\n"
     ]
    },
    {
     "data": {
      "application/vnd.jupyter.widget-view+json": {
       "model_id": "bbb2fd276766468883ba7b1307a1713f",
       "version_major": 2,
       "version_minor": 0
      },
      "text/plain": [
       "HBox(children=(IntProgress(value=0), HTML(value='')))"
      ]
     },
     "metadata": {},
     "output_type": "display_data"
    },
    {
     "name": "stdout",
     "output_type": "stream",
     "text": [
      "\n",
      "Testing...\n"
     ]
    },
    {
     "data": {
      "application/vnd.jupyter.widget-view+json": {
       "model_id": "5355d97c29e14721abfb3b5168c8c4b7",
       "version_major": 2,
       "version_minor": 0
      },
      "text/plain": [
       "HBox(children=(IntProgress(value=0, max=20), HTML(value='')))"
      ]
     },
     "metadata": {},
     "output_type": "display_data"
    },
    {
     "name": "stdout",
     "output_type": "stream",
     "text": [
      "Creating window glfw\n",
      "\n",
      "Training...\n"
     ]
    },
    {
     "data": {
      "application/vnd.jupyter.widget-view+json": {
       "model_id": "14ef619ee85e46769dc79c6422f1edfc",
       "version_major": 2,
       "version_minor": 0
      },
      "text/plain": [
       "HBox(children=(IntProgress(value=0, max=20), HTML(value='')))"
      ]
     },
     "metadata": {},
     "output_type": "display_data"
    },
    {
     "name": "stdout",
     "output_type": "stream",
     "text": [
      "\n",
      "Training...\n"
     ]
    },
    {
     "data": {
      "application/vnd.jupyter.widget-view+json": {
       "model_id": "11abdc8a16694c4d9a226abc4e4ae40d",
       "version_major": 2,
       "version_minor": 0
      },
      "text/plain": [
       "HBox(children=(IntProgress(value=0, max=20), HTML(value='')))"
      ]
     },
     "metadata": {},
     "output_type": "display_data"
    },
    {
     "name": "stdout",
     "output_type": "stream",
     "text": [
      "\n",
      "Training...\n"
     ]
    },
    {
     "data": {
      "application/vnd.jupyter.widget-view+json": {
       "model_id": "fa2d11f6216e45cfa6ec7056a854fac5",
       "version_major": 2,
       "version_minor": 0
      },
      "text/plain": [
       "HBox(children=(IntProgress(value=0, max=20), HTML(value='')))"
      ]
     },
     "metadata": {},
     "output_type": "display_data"
    },
    {
     "name": "stdout",
     "output_type": "stream",
     "text": [
      "\n",
      "Training...\n"
     ]
    },
    {
     "data": {
      "application/vnd.jupyter.widget-view+json": {
       "model_id": "5c1f459f833d439c91610e4727b53c55",
       "version_major": 2,
       "version_minor": 0
      },
      "text/plain": [
       "HBox(children=(IntProgress(value=0, max=20), HTML(value='')))"
      ]
     },
     "metadata": {},
     "output_type": "display_data"
    },
    {
     "name": "stdout",
     "output_type": "stream",
     "text": [
      "\n",
      "Training...\n"
     ]
    },
    {
     "data": {
      "application/vnd.jupyter.widget-view+json": {
       "model_id": "9111f5647bab4e9f8b4b5c897953b7ef",
       "version_major": 2,
       "version_minor": 0
      },
      "text/plain": [
       "HBox(children=(IntProgress(value=0, max=20), HTML(value='')))"
      ]
     },
     "metadata": {},
     "output_type": "display_data"
    },
    {
     "name": "stdout",
     "output_type": "stream",
     "text": [
      "\n",
      "Training...\n"
     ]
    },
    {
     "data": {
      "application/vnd.jupyter.widget-view+json": {
       "model_id": "4cb5d2df5e3649c88a58bf9ab82a0781",
       "version_major": 2,
       "version_minor": 0
      },
      "text/plain": [
       "HBox(children=(IntProgress(value=0, max=20), HTML(value='')))"
      ]
     },
     "metadata": {},
     "output_type": "display_data"
    },
    {
     "name": "stdout",
     "output_type": "stream",
     "text": [
      "\n",
      "Training...\n"
     ]
    },
    {
     "data": {
      "application/vnd.jupyter.widget-view+json": {
       "model_id": "5bb87d1012414cd49df19faf26938b9b",
       "version_major": 2,
       "version_minor": 0
      },
      "text/plain": [
       "HBox(children=(IntProgress(value=0, max=20), HTML(value='')))"
      ]
     },
     "metadata": {},
     "output_type": "display_data"
    },
    {
     "name": "stdout",
     "output_type": "stream",
     "text": [
      "\n",
      "Training...\n"
     ]
    },
    {
     "data": {
      "application/vnd.jupyter.widget-view+json": {
       "model_id": "30eeb26d719f4831abc208bd51b3ec28",
       "version_major": 2,
       "version_minor": 0
      },
      "text/plain": [
       "HBox(children=(IntProgress(value=0, max=20), HTML(value='')))"
      ]
     },
     "metadata": {},
     "output_type": "display_data"
    },
    {
     "name": "stdout",
     "output_type": "stream",
     "text": [
      "\n",
      "Training...\n"
     ]
    },
    {
     "data": {
      "application/vnd.jupyter.widget-view+json": {
       "model_id": "a0f5e06f8a3644cda35ab865530b9645",
       "version_major": 2,
       "version_minor": 0
      },
      "text/plain": [
       "HBox(children=(IntProgress(value=0, max=20), HTML(value='')))"
      ]
     },
     "metadata": {},
     "output_type": "display_data"
    },
    {
     "name": "stdout",
     "output_type": "stream",
     "text": [
      "\n",
      "Training...\n"
     ]
    },
    {
     "data": {
      "application/vnd.jupyter.widget-view+json": {
       "model_id": "a022e001be8f462797adcc71c0749194",
       "version_major": 2,
       "version_minor": 0
      },
      "text/plain": [
       "HBox(children=(IntProgress(value=0, max=20), HTML(value='')))"
      ]
     },
     "metadata": {},
     "output_type": "display_data"
    },
    {
     "name": "stdout",
     "output_type": "stream",
     "text": [
      "\n",
      "Training...\n"
     ]
    },
    {
     "data": {
      "application/vnd.jupyter.widget-view+json": {
       "model_id": "196e9ee0297144a2bdf7082e27f2226f",
       "version_major": 2,
       "version_minor": 0
      },
      "text/plain": [
       "HBox(children=(IntProgress(value=0, max=20), HTML(value='')))"
      ]
     },
     "metadata": {},
     "output_type": "display_data"
    },
    {
     "name": "stdout",
     "output_type": "stream",
     "text": [
      "\n",
      "Training...\n"
     ]
    },
    {
     "data": {
      "application/vnd.jupyter.widget-view+json": {
       "model_id": "491e7739f0c04728bf1fb5b67fd2a1d2",
       "version_major": 2,
       "version_minor": 0
      },
      "text/plain": [
       "HBox(children=(IntProgress(value=0, max=20), HTML(value='')))"
      ]
     },
     "metadata": {},
     "output_type": "display_data"
    },
    {
     "name": "stdout",
     "output_type": "stream",
     "text": [
      "\n",
      "Training...\n"
     ]
    },
    {
     "data": {
      "application/vnd.jupyter.widget-view+json": {
       "model_id": "15980d110cd1466e96b21bb8ba36f026",
       "version_major": 2,
       "version_minor": 0
      },
      "text/plain": [
       "HBox(children=(IntProgress(value=0, max=20), HTML(value='')))"
      ]
     },
     "metadata": {},
     "output_type": "display_data"
    },
    {
     "name": "stdout",
     "output_type": "stream",
     "text": [
      "\n",
      "Training...\n"
     ]
    },
    {
     "data": {
      "application/vnd.jupyter.widget-view+json": {
       "model_id": "d9bfe00175404e7a823859c40d2ae41d",
       "version_major": 2,
       "version_minor": 0
      },
      "text/plain": [
       "HBox(children=(IntProgress(value=0, max=20), HTML(value='')))"
      ]
     },
     "metadata": {},
     "output_type": "display_data"
    },
    {
     "name": "stdout",
     "output_type": "stream",
     "text": [
      "\n",
      "Training...\n"
     ]
    },
    {
     "data": {
      "application/vnd.jupyter.widget-view+json": {
       "model_id": "0ee934e8920149bab7e29e4d67fe4b80",
       "version_major": 2,
       "version_minor": 0
      },
      "text/plain": [
       "HBox(children=(IntProgress(value=0, max=20), HTML(value='')))"
      ]
     },
     "metadata": {},
     "output_type": "display_data"
    },
    {
     "name": "stdout",
     "output_type": "stream",
     "text": [
      "\n",
      "Training...\n"
     ]
    },
    {
     "data": {
      "application/vnd.jupyter.widget-view+json": {
       "model_id": "b587bd3e0a2a451e81e0b7b6258a661d",
       "version_major": 2,
       "version_minor": 0
      },
      "text/plain": [
       "HBox(children=(IntProgress(value=0, max=20), HTML(value='')))"
      ]
     },
     "metadata": {},
     "output_type": "display_data"
    },
    {
     "name": "stdout",
     "output_type": "stream",
     "text": [
      "\n",
      "Training...\n"
     ]
    },
    {
     "data": {
      "application/vnd.jupyter.widget-view+json": {
       "model_id": "b1f8f4d25fcf4e26ac0415f28286c376",
       "version_major": 2,
       "version_minor": 0
      },
      "text/plain": [
       "HBox(children=(IntProgress(value=0, max=20), HTML(value='')))"
      ]
     },
     "metadata": {},
     "output_type": "display_data"
    },
    {
     "name": "stdout",
     "output_type": "stream",
     "text": [
      "\n",
      "Training...\n"
     ]
    },
    {
     "data": {
      "application/vnd.jupyter.widget-view+json": {
       "model_id": "9d3fa83a71eb4e11983cf67ad6f1bd5b",
       "version_major": 2,
       "version_minor": 0
      },
      "text/plain": [
       "HBox(children=(IntProgress(value=0, max=20), HTML(value='')))"
      ]
     },
     "metadata": {},
     "output_type": "display_data"
    },
    {
     "name": "stdout",
     "output_type": "stream",
     "text": [
      "\n",
      "Training...\n"
     ]
    },
    {
     "data": {
      "application/vnd.jupyter.widget-view+json": {
       "model_id": "297880be0acc477dbd188ad01f435bd3",
       "version_major": 2,
       "version_minor": 0
      },
      "text/plain": [
       "HBox(children=(IntProgress(value=0, max=20), HTML(value='')))"
      ]
     },
     "metadata": {},
     "output_type": "display_data"
    },
    {
     "name": "stdout",
     "output_type": "stream",
     "text": [
      "\n",
      "Training...\n"
     ]
    },
    {
     "data": {
      "application/vnd.jupyter.widget-view+json": {
       "model_id": "8fce88d89aee4335abe07a07a382d934",
       "version_major": 2,
       "version_minor": 0
      },
      "text/plain": [
       "HBox(children=(IntProgress(value=0, max=20), HTML(value='')))"
      ]
     },
     "metadata": {},
     "output_type": "display_data"
    },
    {
     "name": "stdout",
     "output_type": "stream",
     "text": [
      "\n",
      "Testing...\n"
     ]
    },
    {
     "data": {
      "application/vnd.jupyter.widget-view+json": {
       "model_id": "2f133d86c95f453a8ce1d3fb0bfdf45e",
       "version_major": 2,
       "version_minor": 0
      },
      "text/plain": [
       "HBox(children=(IntProgress(value=0, max=20), HTML(value='')))"
      ]
     },
     "metadata": {},
     "output_type": "display_data"
    },
    {
     "name": "stdout",
     "output_type": "stream",
     "text": [
      "\n"
     ]
    }
   ],
   "source": [
    "# В коде используются глобальные переменные окружения, поэтому копипаст...\n",
    "\n",
    "### Humanoid-v2\n",
    "# генерируем окружение\n",
    "env_name=\"Humanoid-v2\"\n",
    "expert_policy_file = \"experts/\" + env_name + \".pkl\"\n",
    "# загружеаем стратегию\n",
    "policy_fn = load_policy.load_policy(expert_policy_file)\n",
    "# создаем окружение\n",
    "env = gym.make(env_name)\n",
    "# очищаем состояние окружения\n",
    "env.reset()\n",
    "\n",
    "# получаем rewards\n",
    "humanoid_rewards = test_model_with_DAgger(env_name)\n",
    "# закрываем окружение\n",
    "env.close()\n",
    "# PS: в документации написано, что так же закрывает все используемые окна,\n",
    "# но окна mujoco по прежнему не закрываются (возможно исправят в будующем)\n",
    "\n",
    "\n",
    "### Ant-v2\n",
    "env_name=\"Ant-v2\"\n",
    "expert_policy_file = \"experts/\" + env_name + \".pkl\"\n",
    "policy_fn = load_policy.load_policy(expert_policy_file)\n",
    "env = gym.make(env_name)\n",
    "env.reset()\n",
    "\n",
    "ant_rewards = test_model_with_DAgger(env_name)\n",
    "env.close()\n",
    "\n",
    "\n",
    "### HalfCheetah-v2\n",
    "env_name=\"HalfCheetah-v2\"\n",
    "expert_policy_file = \"experts/\" + env_name + \".pkl\"\n",
    "policy_fn = load_policy.load_policy(expert_policy_file)\n",
    "env = gym.make(env_name)\n",
    "env.reset()\n",
    "\n",
    "half_cheetah_rewards = test_model_with_DAgger(env_name)\n",
    "env.close()\n",
    "\n",
    "\n",
    "### Hopper-v2\n",
    "env_name=\"Hopper-v2\"\n",
    "expert_policy_file = \"experts/\" + env_name + \".pkl\"\n",
    "policy_fn = load_policy.load_policy(expert_policy_file)\n",
    "env = gym.make(env_name)\n",
    "env.reset()\n",
    "\n",
    "hopper_rewards = test_model_with_DAgger(env_name)\n",
    "env.close()\n",
    "\n",
    "\n",
    "### Reacher-v2\n",
    "env_name=\"Reacher-v2\"\n",
    "expert_policy_file = \"experts/\" + env_name + \".pkl\"\n",
    "policy_fn = load_policy.load_policy(expert_policy_file)\n",
    "env = gym.make(env_name)\n",
    "env.reset()\n",
    "\n",
    "reacher_rewards = test_model_with_DAgger(env_name)\n",
    "env.close()\n",
    "\n",
    "\n",
    "### Walker2d-v2\n",
    "env_name=\"Walker2d-v2\"\n",
    "expert_policy_file = \"experts/\" + env_name + \".pkl\"\n",
    "policy_fn = load_policy.load_policy(expert_policy_file)\n",
    "env = gym.make(env_name)\n",
    "env.reset()\n",
    "\n",
    "walker2d_rewards = test_model_with_DAgger(env_name)\n",
    "env.close()"
   ]
  },
  {
   "cell_type": "code",
   "execution_count": 14,
   "metadata": {},
   "outputs": [
    {
     "data": {
      "image/png": "[encoded data removed]",
      "text/plain": [
       "<Figure size 720x360 with 1 Axes>"
      ]
     },
     "metadata": {
      "needs_background": "light"
     },
     "output_type": "display_data"
    }
   ],
   "source": [
    "# записываем данные по качествам моделей для обоих алгоритмов\n",
    "n_groups = 6\n",
    "bc_alg = (humanoid_rewards[\"reward\"],\n",
    "          ant_rewards[\"reward\"],\n",
    "          half_cheetah_rewards[\"reward\"],\n",
    "          hopper_rewards[\"reward\"],\n",
    "          reacher_rewards[\"reward\"],\n",
    "          walker2d_rewards[\"reward\"])\n",
    "DA_alg = (humanoid_rewards[\"DA reward\"],\n",
    "          ant_rewards[\"DA reward\"],\n",
    "          half_cheetah_rewards[\"DA reward\"],\n",
    "          hopper_rewards[\"DA reward\"],\n",
    "          reacher_rewards[\"DA reward\"],\n",
    "          walker2d_rewards[\"DA reward\"])\n",
    "\n",
    "# создаем plot и задаем параметры для графика\n",
    "fig, ax = plt.subplots(figsize=(10, 5))\n",
    "index = np.arange(n_groups)\n",
    "bar_width = 0.2\n",
    "opacity = 0.8\n",
    "\n",
    "# строим график для Behavioural cloning алгоритма\n",
    "rects1 = plt.bar(index, bc_alg, bar_width,\n",
    "alpha=opacity,\n",
    "color='b',\n",
    "label='BC algorithm')\n",
    "\n",
    "# строим график для DAgger алгоритма\n",
    "rects2 = plt.bar(index + bar_width, DA_alg, bar_width,\n",
    "alpha=opacity,\n",
    "color='g',\n",
    "label='DAgger algorithm')\n",
    "\n",
    "# задаем составляющие графика и отображаем его\n",
    "plt.xlabel('Model')\n",
    "plt.ylabel('Reward')\n",
    "plt.title('Rewards by algorithms')\n",
    "plt.xticks(index + bar_width, ('Humanoid-v2', 'Ant-v2', 'HalfCheetah-v2', 'Hopper-v2', 'Reacher-v2', 'Walker2d-v2'))\n",
    "plt.legend()\n",
    "\n",
    "plt.tight_layout()\n",
    "plt.show()"
   ]
  },
  {
   "cell_type": "markdown",
   "metadata": {},
   "source": [
    "Для окружений __Humanoid__, __Hooper__ и __Walker2d__ алгоритм __DAgger__ может улучшить модель, но для __Ant__ и __HalfCheetan__ лучше использовать только __BC__ алгоритм.\n",
    "\n",
    "Как видно из графика построенная архитектура нейросети для моделей хорошо подходит только для __Ant__ и __HalfCheetah__. Так же на качество повлияло небольшое число собираемой статистики (roll-outs).\n",
    "\n",
    "Для __Humanoid__ так же стоило бы увеличить максимальное число шагов (max_steps), так как 200 шагов недостаточно, чтобы собрать всю статистику"
   ]
  }
 ],
 "metadata": {
  "kernelspec": {
   "display_name": "Python 3",
   "language": "python",
   "name": "python3"
  },
  "language_info": {
   "codemirror_mode": {
    "name": "ipython",
    "version": 3
   },
   "file_extension": ".py",
   "mimetype": "text/x-python",
   "name": "python",
   "nbconvert_exporter": "python",
   "pygments_lexer": "ipython3",
   "version": "3.7.0"
  }
 },
 "nbformat": 4,
 "nbformat_minor": 2
}
